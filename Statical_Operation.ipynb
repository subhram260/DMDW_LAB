{
  "nbformat": 4,
  "nbformat_minor": 0,
  "metadata": {
    "colab": {
      "name": "Statical_Operation.ipynb",
      "provenance": [],
      "collapsed_sections": [],
      "authorship_tag": "ABX9TyNF1OwV4V5w241pbo+j2RAu",
      "include_colab_link": true
    },
    "kernelspec": {
      "name": "python3",
      "display_name": "Python 3"
    },
    "language_info": {
      "name": "python"
    }
  },
  "cells": [
    {
      "cell_type": "markdown",
      "metadata": {
        "id": "view-in-github",
        "colab_type": "text"
      },
      "source": [
        "<a href=\"https://colab.research.google.com/github/subhram260/DMDW_LAB/blob/main/Statical_Operation.ipynb\" target=\"_parent\"><img src=\"https://colab.research.google.com/assets/colab-badge.svg\" alt=\"Open In Colab\"/></a>"
      ]
    },
    {
      "cell_type": "markdown",
      "metadata": {
        "id": "MZWnWMmxZ6dd"
      },
      "source": [
        "<h6>Write the python code for following statical operations with and with out library function.</h6>\n",
        "<br>\n",
        "1.Mean\n",
        "<br>\n",
        "2.Median\n",
        "<br>\n",
        "3.Mode\n",
        "<br>\n",
        "4.Standard Deviation\n",
        "<br>\n",
        "5.Variance"
      ]
    },
    {
      "cell_type": "code",
      "metadata": {
        "colab": {
          "base_uri": "https://localhost:8080/"
        },
        "id": "dhxnoG7kZxUa",
        "outputId": "320824eb-95b9-4788-a7d3-434cef88a901"
      },
      "source": [
        "def mean():\n",
        "  a=int(input(\"Enter 1st value : \"))\n",
        "  b=int(input(\"Enter 2st value : \"))\n",
        "  c=int(input(\"Enter 3st value : \"))\n",
        "  d=int(input(\"Enter 4st value : \"))\n",
        "  e=int(input(\"Enter 5st value : \"))\n",
        "\n",
        "  print(\"Mean :\",(a+b+c+d+e)/5)\n",
        "mean() "
      ],
      "execution_count": 3,
      "outputs": [
        {
          "output_type": "stream",
          "name": "stdout",
          "text": [
            "Enter 1st value : 1\n",
            "Enter 2st value : 2\n",
            "Enter 3st value : 3\n",
            "Enter 4st value : 4\n",
            "Enter 5st value : 5\n",
            "Mean : 3.0\n"
          ]
        }
      ]
    },
    {
      "cell_type": "code",
      "metadata": {
        "colab": {
          "base_uri": "https://localhost:8080/"
        },
        "id": "a0igi6fVbxjZ",
        "outputId": "dab4796b-387e-4ee9-9e16-e00574f6a7c5"
      },
      "source": [
        "def median():\n",
        "  a=int(input(\"Enter 1st value : \"))\n",
        "  b=int(input(\"Enter 2st value : \"))\n",
        "  c=int(input(\"Enter 3st value : \"))\n",
        "  d=int(input(\"Enter 4st value : \"))\n",
        "  e=int(input(\"Enter 5st value : \"))\n",
        "\n",
        "  sortval=[a,b,c,d,e]\n",
        "  sortval=sorted(sortval)\n",
        "  i=(int)(len(sortval)/2)\n",
        "  print(\"Median : \",sortval[i])\n",
        "\n",
        "median() "
      ],
      "execution_count": 7,
      "outputs": [
        {
          "output_type": "stream",
          "name": "stdout",
          "text": [
            "Enter 1st value : 6\n",
            "Enter 2st value : 3\n",
            "Enter 3st value : 8\n",
            "Enter 4st value : 4\n",
            "Enter 5st value : 7\n",
            "Median :  6\n"
          ]
        }
      ]
    },
    {
      "cell_type": "code",
      "metadata": {
        "colab": {
          "base_uri": "https://localhost:8080/"
        },
        "id": "SIX1DJptc-cl",
        "outputId": "831fea00-f5de-4336-af5a-6c368c640654"
      },
      "source": [
        "def mode1():\n",
        "  a=int(input(\"Enter 1st value : \"))\n",
        "  b=int(input(\"Enter 2st value : \"))\n",
        "  c=int(input(\"Enter 3st value : \"))\n",
        "  d=int(input(\"Enter 4st value : \"))\n",
        "  e=int(input(\"Enter 5st value : \"))\n",
        "  val=[a,b,c,d,e]\n",
        "  setval=set(val)\n",
        "  for i in setval:\n",
        "    val.remove(i)\n",
        "  m=set(val)  \n",
        "  print(\"Mode  :\",m)  \n",
        "mode1() "
      ],
      "execution_count": 28,
      "outputs": [
        {
          "output_type": "stream",
          "name": "stdout",
          "text": [
            "Enter 1st value : 3\n",
            "Enter 2st value : 4\n",
            "Enter 3st value : 3\n",
            "Enter 4st value : 4\n",
            "Enter 5st value : 3\n",
            "Mode  : {3, 4}\n"
          ]
        }
      ]
    },
    {
      "cell_type": "code",
      "metadata": {
        "id": "PRRc7Uy2ex6Z"
      },
      "source": [
        ""
      ],
      "execution_count": null,
      "outputs": []
    }
  ]
}