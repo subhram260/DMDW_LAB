{
  "nbformat": 4,
  "nbformat_minor": 0,
  "metadata": {
    "colab": {
      "name": "Statical_Operation.ipynb",
      "provenance": [],
      "collapsed_sections": [],
      "authorship_tag": "ABX9TyORmYlWWkgCjmVpH3zdbuEH",
      "include_colab_link": true
    },
    "kernelspec": {
      "name": "python3",
      "display_name": "Python 3"
    },
    "language_info": {
      "name": "python"
    }
  },
  "cells": [
    {
      "cell_type": "markdown",
      "metadata": {
        "id": "view-in-github",
        "colab_type": "text"
      },
      "source": [
        "<a href=\"https://colab.research.google.com/github/subhram260/DMDW_LAB/blob/main/Statical_Operation.ipynb\" target=\"_parent\"><img src=\"https://colab.research.google.com/assets/colab-badge.svg\" alt=\"Open In Colab\"/></a>"
      ]
    },
    {
      "cell_type": "markdown",
      "metadata": {
        "id": "MZWnWMmxZ6dd"
      },
      "source": [
        "<h6>Write the python code for following statical operations with and with out library function.</h6>\n",
        "<br>\n",
        "1.Mean\n",
        "<br>\n",
        "2.Median\n",
        "<br>\n",
        "3.Mode\n",
        "<br>\n",
        "4.Standard Deviation\n",
        "<br>\n",
        "5.Variance"
      ]
    },
    {
      "cell_type": "code",
      "metadata": {
        "colab": {
          "base_uri": "https://localhost:8080/"
        },
        "id": "MthpfzYYE09k",
        "outputId": "baafd6fd-7aca-415f-e42e-8694a58a9197"
      },
      "source": [
        "import numpy as np\n",
        "data=[1,2,3,1,2,5,3,2,9]\n",
        "narray=np.asanyarray(data)\n",
        "narray"
      ],
      "execution_count": 3,
      "outputs": [
        {
          "output_type": "execute_result",
          "data": {
            "text/plain": [
              "array([1, 2, 3, 1, 2, 5, 3, 2, 9])"
            ]
          },
          "metadata": {},
          "execution_count": 3
        }
      ]
    },
    {
      "cell_type": "code",
      "metadata": {
        "colab": {
          "base_uri": "https://localhost:8080/"
        },
        "id": "LLMY8QO0E465",
        "outputId": "37774529-cca3-4ff1-ef5b-205f81464b78"
      },
      "source": [
        "#Mean\n",
        "print(narray.mean())"
      ],
      "execution_count": null,
      "outputs": [
        {
          "output_type": "stream",
          "name": "stdout",
          "text": [
            "3.111111111111111\n"
          ]
        }
      ]
    },
    {
      "cell_type": "code",
      "metadata": {
        "colab": {
          "base_uri": "https://localhost:8080/"
        },
        "id": "9cli3h0XE5AQ",
        "outputId": "0f91c7e0-cb1b-4a53-da93-f2c3dd3a0483"
      },
      "source": [
        "#Median\n",
        "print(np.median(narray))"
      ],
      "execution_count": null,
      "outputs": [
        {
          "output_type": "stream",
          "name": "stdout",
          "text": [
            "2.0\n"
          ]
        }
      ]
    },
    {
      "cell_type": "code",
      "metadata": {
        "colab": {
          "base_uri": "https://localhost:8080/"
        },
        "id": "smggkJUHE5GW",
        "outputId": "ee35ca8b-31fc-4d8a-f68e-796b103962c4"
      },
      "source": [
        "#Mode\n",
        "import statistics as st\n",
        "try:\n",
        "  print(st.mode(data))\n",
        "except:\n",
        "  print(\"There are multiple mode or no mode !!\")"
      ],
      "execution_count": null,
      "outputs": [
        {
          "output_type": "stream",
          "name": "stdout",
          "text": [
            "2\n"
          ]
        }
      ]
    },
    {
      "cell_type": "code",
      "metadata": {
        "colab": {
          "base_uri": "https://localhost:8080/"
        },
        "id": "9erjcRDaE5Ox",
        "outputId": "9b04f3e0-6315-4670-d9fe-1c4cbcbc8787"
      },
      "source": [
        "#Standard Deviation \n",
        "st.stdev(data)"
      ],
      "execution_count": null,
      "outputs": [
        {
          "output_type": "execute_result",
          "data": {
            "text/plain": [
              "1.3017082793177757"
            ]
          },
          "metadata": {},
          "execution_count": 44
        }
      ]
    },
    {
      "cell_type": "code",
      "metadata": {
        "colab": {
          "base_uri": "https://localhost:8080/"
        },
        "id": "IgayyaE8E5Vn",
        "outputId": "7ef96263-f6fa-4a61-9922-02aec8eba4a7"
      },
      "source": [
        "#variance\n",
        "st.variance(data)"
      ],
      "execution_count": null,
      "outputs": [
        {
          "output_type": "execute_result",
          "data": {
            "text/plain": [
              "1.6944444444444444"
            ]
          },
          "metadata": {},
          "execution_count": 45
        }
      ]
    },
    {
      "cell_type": "code",
      "metadata": {
        "colab": {
          "base_uri": "https://localhost:8080/"
        },
        "id": "dhxnoG7kZxUa",
        "outputId": "320824eb-95b9-4788-a7d3-434cef88a901"
      },
      "source": [
        "def mean():\n",
        "  a=int(input(\"Enter 1st value : \"))\n",
        "  b=int(input(\"Enter 2st value : \"))\n",
        "  c=int(input(\"Enter 3st value : \"))\n",
        "  d=int(input(\"Enter 4st value : \"))\n",
        "  e=int(input(\"Enter 5st value : \"))\n",
        "\n",
        "  print(\"Mean :\",(a+b+c+d+e)/5)\n",
        "mean() "
      ],
      "execution_count": null,
      "outputs": [
        {
          "output_type": "stream",
          "name": "stdout",
          "text": [
            "Enter 1st value : 1\n",
            "Enter 2st value : 2\n",
            "Enter 3st value : 3\n",
            "Enter 4st value : 4\n",
            "Enter 5st value : 5\n",
            "Mean : 3.0\n"
          ]
        }
      ]
    },
    {
      "cell_type": "code",
      "metadata": {
        "colab": {
          "base_uri": "https://localhost:8080/"
        },
        "id": "a0igi6fVbxjZ",
        "outputId": "dab4796b-387e-4ee9-9e16-e00574f6a7c5"
      },
      "source": [
        "def median():\n",
        "  a=int(input(\"Enter 1st value : \"))\n",
        "  b=int(input(\"Enter 2st value : \"))\n",
        "  c=int(input(\"Enter 3st value : \"))\n",
        "  d=int(input(\"Enter 4st value : \"))\n",
        "  e=int(input(\"Enter 5st value : \"))\n",
        "\n",
        "  sortval=[a,b,c,d,e]\n",
        "  sortval=sorted(sortval)\n",
        "  i=(int)(len(sortval)/2)\n",
        "  print(\"Median : \",sortval[i])\n",
        "\n",
        "median() "
      ],
      "execution_count": null,
      "outputs": [
        {
          "output_type": "stream",
          "name": "stdout",
          "text": [
            "Enter 1st value : 6\n",
            "Enter 2st value : 3\n",
            "Enter 3st value : 8\n",
            "Enter 4st value : 4\n",
            "Enter 5st value : 7\n",
            "Median :  6\n"
          ]
        }
      ]
    },
    {
      "cell_type": "code",
      "metadata": {
        "colab": {
          "base_uri": "https://localhost:8080/"
        },
        "id": "NvXOv4fI3Rzu",
        "outputId": "a28cf8c3-4f4e-4497-8b0d-3222917b09fc"
      },
      "source": [
        "def mode(data):\n",
        "  y=data\n",
        "  y.sort() \n",
        "  L1=[]\n",
        "\n",
        "  i = 0\n",
        "  while i < len(y) :\n",
        "      L1.append(y.count(y[i]))\n",
        "      i += 1\n",
        "  \n",
        "  d1 = dict(zip(y, L1))\n",
        "  \n",
        "  d2={k for (k,v) in d1.items() if v == max(L1) }\n",
        "  \n",
        "  print(\"Modes are :\" + str(d2))\n",
        "mode(data)  "
      ],
      "execution_count": 6,
      "outputs": [
        {
          "output_type": "stream",
          "name": "stdout",
          "text": [
            "Modes are :{2}\n"
          ]
        }
      ]
    },
    {
      "cell_type": "code",
      "metadata": {
        "colab": {
          "base_uri": "https://localhost:8080/"
        },
        "id": "PRRc7Uy2ex6Z",
        "outputId": "9dabeb41-4315-4379-d921-a23617894cd0"
      },
      "source": [
        "def variance(data):\n",
        "  m=sum(data)/len(data)\n",
        "  variance1=0\n",
        "  for i in range(0,len(data)):\n",
        "    variance1+=((m-data[i])*(m-data[i]))\n",
        "  variance1=variance1/len(data)\n",
        "  print(\"Variance : \",variance1)\n",
        "variance(data) "
      ],
      "execution_count": 7,
      "outputs": [
        {
          "output_type": "stream",
          "name": "stdout",
          "text": [
            "Variance :  5.654320987654322\n"
          ]
        }
      ]
    },
    {
      "cell_type": "code",
      "metadata": {
        "colab": {
          "base_uri": "https://localhost:8080/"
        },
        "id": "G3VTAqull3iG",
        "outputId": "ae8e5065-4b5b-4359-c97c-ceae9037d50a"
      },
      "source": [
        "import math as mt\n",
        "def standardDeviation(data):\n",
        "  m=sum(data)/len(data)\n",
        "  variance1=0\n",
        "  for i in range(0,len(data)):\n",
        "    variance1+=((m-data[i])*(m-data[i]))\n",
        "  variance1=variance1/len(data)\n",
        "  print(\"Standard Deviation : \",mt.sqrt(variance1))\n",
        "standardDeviation(data) "
      ],
      "execution_count": 9,
      "outputs": [
        {
          "output_type": "stream",
          "name": "stdout",
          "text": [
            "Standard Deviation :  2.3778816176702997\n"
          ]
        }
      ]
    },
    {
      "cell_type": "code",
      "metadata": {
        "id": "yWvRFxUdoyR0"
      },
      "source": [
        ""
      ],
      "execution_count": null,
      "outputs": []
    }
  ]
}